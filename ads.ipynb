{
 "cells": [
  {
   "cell_type": "markdown",
   "metadata": {},
   "source": [
    "# Snapchat Political Ads\n"
   ]
  },
  {
   "cell_type": "markdown",
   "metadata": {},
   "source": [
    "# Summary of Findings\n",
    "\n",
    "\n",
    "### Introduction\n",
    "My prediction problem will be assessing, based on given characteristics of a snapchat political adverts from 2018 and 2019, whether the advert is targetting males or females. This will be insightful for the fact that it allows developers to gain information on whether our advert will be more likely to targeting males or females. In this case, I will not be consdering adverts that target all genders, as this project is specifically looking towards targetted adverts. This will be tested based on given characteristics of the snapchat advert. If so, we will be able to make predictions with the assumption that variables are unchanging.\n",
    "\n",
    "This project will be a classification problem because the value being predicted is a class associated with an observation. Also, the target variable, gender, is a nominal variable and is the reason why we develop a classification model.\n",
    "\n",
    "My models will be tested and evaluated  based on the accuracy score. I decided to use accuracy as a metric due to it being easily interpretable and because it takes into account the entire dataset. I decided against the f1 score that although there's a misbalance in the distribution (females highly represented compared to males), there is no class that is more relevant than the other and both genders take a role. Getting an incorrect value for either gender is equal in importance and I believe the accuracy is able to capture the overall value of the models. However, it is now something to keep in mind that there's a possibilty of bias and also take into account our distribution of the data when evaluating our results. \n",
    "\n",
    "### Baseline Model\n",
    "My baseline model will be based on features that I deem relevant to the target variable, gender. These features will include impressions(quantitative), spent money(quantitative), country(nominal). Month is nominal rather than ordinal due to it being spread over two years, rather than one year. Therefore, I will have 3 features, 2 of them being quantitative and the other one being a nominal variables. The other variables that I didn't count into my model were not used because most of them were detailing specifics about the advert and this would be hard to compare through out the entire dataset as it refers to only one observation. Moreover, most of the columns I dropped had the majority of its values being null. \n",
    "\n",
    "The one nominal variable, country, will therefore have to be one hot encoded, while the other two variables will be kept as their corresponding columns and passed through during the column transformer.\n",
    "\n",
    "My accuracy was 0.703 and I believe this is a good starting point, given it is a baseline model. It shows that there are potentially signs that draw distinct charcateristics between the two targetted advertisements. However, approximately 30% of are being assigned the wrong label and this could be improved through feature engineering. This large number is probably due to the complexity of the variables and the overlapping connectiong between one another as variables. This demonstrates the importance of feature engineering. \n",
    "\n",
    "### Final Model\n",
    "My first feature was extracting the month of when the advert was posted. This was done through the given start date column and using the function transformer. Marketing relies heavily on release time and therefore believed that this would be a useful attribute to utilize in our model. For example, Women's History Month is throughout the month of March, and therefore, there could be a possible increase of political adverts targetted towards females. I one hot encoded this feature, because I valued each month as its own entity. Moreover, it was over two years, so there's not really an order if I were to use them as a time variable.\n",
    "\n",
    "My second feature was extracting the number of days the advert was posted. This was done by subtracting end date from start date and formatting to produce only the number of days for ease of analysis. I thought this would be another variable that would be good for my data because there may be speculation that different genders react differently to adverts being persistently presented to them on snapchat rather than being shown once.\n",
    "\n",
    "I decided to use a decision tree classifier model. This is because it is easier to interpret and you can check the most important features performing in this model, which is extremely important for those developing these adverts. Moreover, the range of values were different for each quantitative variable and therefore utilizing a decision tree was useful as it required no standard scaling. I attempted to try the KNeighborsClassifier to see if it would have been a better selection of model, but the decision tree classifier performed slightly better.\n",
    "\n",
    "I found the parameters that performed the best through GridSearchCV. I tested a range of values that were balanced between having a large range of values, and capturing optimality in our values. This was max depth being 7, min samples leaf being 5 and min samples split being 7. The reason why I made some of my additional features were because I decided that these variables that were extracted were able to capture the marketing aspect of political adverts rather than the basic attributes of the advert, which the original features showed.\n",
    "\n",
    "Overall, the score improved by 7%, which I see as a strong improvement. For further analysis, I would start investing the split between datasets regarding false positive and false negatives.\n",
    "\n",
    "### Fairness Evaluation\n",
    "Politicals vary heavily when it comes to observing different countries. In my opinion, I see America utilizing media the most when it comes to political affairs. Therefore, I decided it would be interesting to create a subset comparing America to the rest of the world. There are many variables that correspond to this and could be further investigated for futher analysis, such as progressiveness of the country and culture.\n",
    "\n",
    "For this, I decided to check the true positive parity as the parity measure, with the positive label being females. Therefore, my test statistic was a recall measure. There could possibly be a larger range of differences when looking at female targetted audiences and I was curious to see that specifically. I feel as though it would be more interesting to look at the difference between the adverts that were labelled correctly when it came to adverts the were targetted to a female audience. This is the reasoning behind using true positive parity because I wanted to specifically look at the correctness of labelling a female targetted advert.\n",
    "\n",
    "Therefore, I ran a permutation test and shuffled the column with the binary values of america and the rest of the world. My null hypothesis would be the model would be similar for both subsets, america and the rest of the world. My p value was 1.0 and out of range of the randomly shuffled recall values. Therefore, with a 5% confidence interval, I rejected the null hypothesis and there was a strong bias towards one than the other. The observed difference between recall values were 0.27 in favour of the United States. Therefore, there is some bias in incorrectly labelling female targetted adverts more from the rest of the world. Perhaps there are more distinct characteristics of a female targetted advert from the USA, but these sorts of conclusion require further investigation."
   ]
  },
  {
   "cell_type": "markdown",
   "metadata": {},
   "source": [
    "# Code"
   ]
  },
  {
   "cell_type": "code",
   "execution_count": 5,
   "metadata": {},
   "outputs": [],
   "source": [
    "import matplotlib.pyplot as plt\n",
    "import numpy as np\n",
    "import os\n",
    "import pandas as pd\n",
    "import seaborn as sns\n",
    "%matplotlib inline\n",
    "%config InlineBackend.figure_format = 'retina'  # Higher resolution figures"
   ]
  },
  {
   "cell_type": "code",
   "execution_count": 136,
   "metadata": {},
   "outputs": [
    {
     "name": "stderr",
     "output_type": "stream",
     "text": [
      "/opt/anaconda3/lib/python3.7/site-packages/ipykernel_launcher.py:33: SettingWithCopyWarning: \n",
      "A value is trying to be set on a copy of a slice from a DataFrame.\n",
      "Try using .loc[row_indexer,col_indexer] = value instead\n",
      "\n",
      "See the caveats in the documentation: https://pandas.pydata.org/pandas-docs/stable/user_guide/indexing.html#returning-a-view-versus-a-copy\n"
     ]
    },
    {
     "data": {
      "text/html": [
       "<div>\n",
       "<style scoped>\n",
       "    .dataframe tbody tr th:only-of-type {\n",
       "        vertical-align: middle;\n",
       "    }\n",
       "\n",
       "    .dataframe tbody tr th {\n",
       "        vertical-align: top;\n",
       "    }\n",
       "\n",
       "    .dataframe thead th {\n",
       "        text-align: right;\n",
       "    }\n",
       "</style>\n",
       "<table border=\"1\" class=\"dataframe\">\n",
       "  <thead>\n",
       "    <tr style=\"text-align: right;\">\n",
       "      <th></th>\n",
       "      <th>Gender</th>\n",
       "      <th>Spend</th>\n",
       "      <th>Impressions</th>\n",
       "      <th>StartDate</th>\n",
       "      <th>EndDate</th>\n",
       "      <th>Country</th>\n",
       "    </tr>\n",
       "  </thead>\n",
       "  <tbody>\n",
       "    <tr>\n",
       "      <th>0</th>\n",
       "      <td>Female</td>\n",
       "      <td>35.00</td>\n",
       "      <td>16678</td>\n",
       "      <td>2018-11-06 18:21:20</td>\n",
       "      <td>2018-11-07 01:19:08</td>\n",
       "      <td>United States</td>\n",
       "    </tr>\n",
       "    <tr>\n",
       "      <th>1</th>\n",
       "      <td>Male</td>\n",
       "      <td>6.00</td>\n",
       "      <td>4846</td>\n",
       "      <td>2018-12-01 17:37:10</td>\n",
       "      <td>2018-12-11 05:37:02</td>\n",
       "      <td>Nigeria</td>\n",
       "    </tr>\n",
       "    <tr>\n",
       "      <th>2</th>\n",
       "      <td>Female</td>\n",
       "      <td>56.00</td>\n",
       "      <td>11770</td>\n",
       "      <td>2018-09-28 23:10:14</td>\n",
       "      <td>2018-10-17 02:00:00</td>\n",
       "      <td>United States</td>\n",
       "    </tr>\n",
       "    <tr>\n",
       "      <th>6</th>\n",
       "      <td>Female</td>\n",
       "      <td>57.00</td>\n",
       "      <td>11207</td>\n",
       "      <td>2018-09-28 23:10:14</td>\n",
       "      <td>2018-10-10 03:00:00</td>\n",
       "      <td>United States</td>\n",
       "    </tr>\n",
       "    <tr>\n",
       "      <th>32</th>\n",
       "      <td>Female</td>\n",
       "      <td>421.03</td>\n",
       "      <td>359611</td>\n",
       "      <td>2018-07-20 23:09:54</td>\n",
       "      <td>2018-09-04 03:59:00</td>\n",
       "      <td>Canada</td>\n",
       "    </tr>\n",
       "  </tbody>\n",
       "</table>\n",
       "</div>"
      ],
      "text/plain": [
       "    Gender   Spend  Impressions           StartDate             EndDate  \\\n",
       "0   Female   35.00        16678 2018-11-06 18:21:20 2018-11-07 01:19:08   \n",
       "1     Male    6.00         4846 2018-12-01 17:37:10 2018-12-11 05:37:02   \n",
       "2   Female   56.00        11770 2018-09-28 23:10:14 2018-10-17 02:00:00   \n",
       "6   Female   57.00        11207 2018-09-28 23:10:14 2018-10-10 03:00:00   \n",
       "32  Female  421.03       359611 2018-07-20 23:09:54 2018-09-04 03:59:00   \n",
       "\n",
       "          Country  \n",
       "0   United States  \n",
       "1         Nigeria  \n",
       "2   United States  \n",
       "6   United States  \n",
       "32         Canada  "
      ]
     },
     "execution_count": 136,
     "metadata": {},
     "output_type": "execute_result"
    }
   ],
   "source": [
    "#CLEANING PROCESS\n",
    "#reading csv files\n",
    "ads_2018 = pd.read_csv(\"PoliticalAds2018.csv\")\n",
    "ads_2019 = pd.read_csv(\"PoliticalAds2019.csv\")\n",
    "#setting options for visibility\n",
    "pd.set_option('display.max_rows', 500)\n",
    "pd.set_option('display.max_columns', 100)\n",
    "\n",
    "#concatenating the tables together\n",
    "df = pd.concat([ads_2018, ads_2019], ignore_index = True)\n",
    "\n",
    "#Converting dates to datetime format for both StartDate and EndDate\n",
    "df['StartDate'] = df['StartDate'].apply(lambda x: pd.to_datetime(x[:-1]))\n",
    "df['EndDate'] = df['EndDate'].apply(lambda x: pd.to_datetime(x[:-1]) if type(x) == str else x)\n",
    "\n",
    "#Dropping unnecessary columns and columns that could include privacy issues.\n",
    "df2 = df[['Gender','Currency Code', 'Spend', 'Impressions', 'StartDate', 'EndDate'\n",
    "         ,'CountryCode']]\n",
    "\n",
    "\n",
    "#Clean up currency and spend\n",
    "def currency_change(x):\n",
    "    if x['Currency Code'] == 'EUR':\n",
    "        return x['Spend']*1.08\n",
    "    elif x['Currency Code'] == 'GBP':\n",
    "        return x['Spend']*1.22\n",
    "    elif x['Currency Code'] == 'CAD':\n",
    "        return x['Spend']*0.71\n",
    "    elif x['Currency Code'] == 'AUD':\n",
    "        return x['Spend']*0.65\n",
    "    else:\n",
    "        return x['Spend']\n",
    "df2['Spend'] = df2.apply(currency_change, axis = 1)\n",
    "df2 = df2.drop(columns = ['Currency Code'])\n",
    "\n",
    "#CountryCode Capitalize\n",
    "df2['CountryCode'] = df2['CountryCode'].str.title()\n",
    "df2 = df2.rename(columns = {'CountryCode':'Country'})\n",
    "\n",
    "#Rename Gender\n",
    "df2['Gender'] = df2['Gender'].replace({'MALE': 'Male', \"FEMALE\": \"Female\"})\n",
    "\n",
    "#Creating new column that utilizes only the months and year of columns. I broadened it to month because it becomes\n",
    "# difficult to analyze and compare each day from one another due to the wide range.\n",
    "\n",
    "#Creating table that contains only targetted gender campaigns.\n",
    "only_targetted = df2.loc[(df2['Gender'] == 'Male')  | (df2['Gender'] == 'Female')]\n",
    "only_targetted = only_targetted.dropna()\n",
    "only_targetted.head()"
   ]
  },
  {
   "cell_type": "markdown",
   "metadata": {},
   "source": [
    "### Baseline Model"
   ]
  },
  {
   "cell_type": "code",
   "execution_count": 271,
   "metadata": {},
   "outputs": [
    {
     "data": {
      "text/plain": [
       "0.7037234042553183"
      ]
     },
     "execution_count": 271,
     "metadata": {},
     "output_type": "execute_result"
    }
   ],
   "source": [
    "#importing necessary modules\n",
    "from sklearn.tree import DecisionTreeClassifier\n",
    "from sklearn.model_selection import train_test_split\n",
    "from sklearn.preprocessing import OneHotEncoder\n",
    "from sklearn.pipeline import Pipeline\n",
    "from sklearn.compose import ColumnTransformer\n",
    "from sklearn.preprocessing import FunctionTransformer\n",
    "from sklearn import metrics\n",
    "from sklearn.model_selection import GridSearchCV\n",
    "\n",
    "#assigning features and the target variable.\n",
    "X = only_targetted.drop('Gender',axis =1)\n",
    "y = only_targetted['Gender']\n",
    "\n",
    "#distinctifying columns between quantitative vs nominal variables\n",
    "qual_feat = ['Country']\n",
    "num_feat = ['Spend', 'Impressions']\n",
    "\n",
    "#Developing pipelines for each corresponding variable\n",
    "#One hot encoding\n",
    "qual = Pipeline([('ohe', OneHotEncoder(handle_unknown='ignore'))])\n",
    "#identity function\n",
    "nums = FunctionTransformer(lambda x:x)\n",
    "\n",
    "#Pipeline to put concat all the pipelines together and developing a decision tree classifier.\n",
    "ct = ColumnTransformer([('qual', qual, qual_feat), ('num', nums, num_feat)])\n",
    "pl = Pipeline([('feats', ct), ('dt', DecisionTreeClassifier())])\n",
    "\n",
    "#Creating an average of the scores that get produced from this classifier model.\n",
    "scores = []\n",
    "for i in range(100):\n",
    "    X_train, X_test, y_train, y_test = train_test_split(X, y)\n",
    "    pl.fit(X_train, y_train)\n",
    "    scores.append(pl.score(X_test, y_test))\n",
    "\n",
    "pd.Series(scores).mean()"
   ]
  },
  {
   "cell_type": "markdown",
   "metadata": {},
   "source": [
    "### Final Model"
   ]
  },
  {
   "cell_type": "code",
   "execution_count": 397,
   "metadata": {},
   "outputs": [],
   "source": [
    "#Extracting month from the start date in order to engineer a feature that demonstrates the month it was advertised.\n",
    "month_feat = ['StartDate']\n",
    "month = Pipeline(steps = [('month', FunctionTransformer(lambda x:pd.DataFrame(x.iloc[:,0].apply(lambda x: x.strftime(\"%B\"))))), ('ohe', OneHotEncoder(handle_unknown = 'ignore'))])\n",
    "\n",
    "#Extracting number of days posted as an engineered feature\n",
    "day = Pipeline([('month', FunctionTransformer(lambda x: pd.DataFrame((x.iloc[:,0] - x.iloc[:,1]).apply(lambda x:x.days))))])\n",
    "day_feat = ['EndDate', 'StartDate']\n",
    "\n",
    "#Putting it all together to create a final model.\n",
    "ct2 = ColumnTransformer([('qual', qual, qual_feat), ('num', nums, num_feat), ('day', day, day_feat), ('month', month, month_feat)])\n",
    "pl2 = Pipeline([('feats', ct2), ('dt', DecisionTreeClassifier())])\n"
   ]
  },
  {
   "cell_type": "code",
   "execution_count": 390,
   "metadata": {},
   "outputs": [
    {
     "data": {
      "text/plain": [
       "{'dt__max_depth': 7, 'dt__min_samples_leaf': 5, 'dt__min_samples_split': 7}"
      ]
     },
     "execution_count": 390,
     "metadata": {},
     "output_type": "execute_result"
    }
   ],
   "source": [
    "#Using GridSearchCV to find the best parameters for this model. Tried to capture a wide range of values.\n",
    "X_train, X_test, y_train, y_test = train_test_split(X, y)\n",
    "parameters = {\n",
    "    'dt__max_depth': [2,3,4,5,7,10,13,15,None], \n",
    "    'dt__min_samples_split':[2,3,5,7,10,15,20],\n",
    "    'dt__min_samples_leaf':[5,10,15,20,25,30,35,40]\n",
    "}\n",
    "pl2.get_params().keys()\n",
    "clf = GridSearchCV(pl2, parameters)\n",
    "clf.fit(X_train, y_train)\n",
    "clf.best_params_"
   ]
  },
  {
   "cell_type": "code",
   "execution_count": 413,
   "metadata": {},
   "outputs": [
    {
     "data": {
      "text/plain": [
       "0.7652382873480559"
      ]
     },
     "execution_count": 413,
     "metadata": {},
     "output_type": "execute_result"
    }
   ],
   "source": [
    "#Attempting to use KNeighrborsClassifier\n",
    "from sklearn.neighbors import KNeighborsClassifier\n",
    "pl4 = Pipeline([('feats', ct2), ('knc', KNeighborsClassifier())])\n",
    "for i in range(100):\n",
    "    X_train, X_test, y_train, y_test = train_test_split(X, y)\n",
    "    pl4.fit(X_train, y_train)\n",
    "    scores.append(pl4.score(X_test, y_test))\n",
    "pd.Series(scores).mean()"
   ]
  },
  {
   "cell_type": "code",
   "execution_count": 406,
   "metadata": {},
   "outputs": [
    {
     "data": {
      "text/plain": [
       "0.7742287234042535"
      ]
     },
     "execution_count": 406,
     "metadata": {},
     "output_type": "execute_result"
    }
   ],
   "source": [
    "#Creating a pipeline with the best parameters and repeatedly tested the score of the final model to gather an average.\n",
    "pl3 = Pipeline([('feats', ct2), ('dt', DecisionTreeClassifier(max_depth = 7, min_samples_leaf = 5, min_samples_split = 7))])\n",
    "for i in range(100):\n",
    "    X_train, X_test, y_train, y_test = train_test_split(X, y)\n",
    "    pl3.fit(X_train, y_train)\n",
    "    scores.append(pl3.score(X_test, y_test))\n",
    "pd.Series(scores).mean()"
   ]
  },
  {
   "cell_type": "markdown",
   "metadata": {},
   "source": [
    "### Fairness Evaluation"
   ]
  },
  {
   "cell_type": "code",
   "execution_count": 400,
   "metadata": {},
   "outputs": [
    {
     "name": "stderr",
     "output_type": "stream",
     "text": [
      "/opt/anaconda3/lib/python3.7/site-packages/ipykernel_launcher.py:7: SettingWithCopyWarning: \n",
      "A value is trying to be set on a copy of a slice from a DataFrame.\n",
      "Try using .loc[row_indexer,col_indexer] = value instead\n",
      "\n",
      "See the caveats in the documentation: https://pandas.pydata.org/pandas-docs/stable/user_guide/indexing.html#returning-a-view-versus-a-copy\n",
      "  import sys\n",
      "/opt/anaconda3/lib/python3.7/site-packages/ipykernel_launcher.py:9: SettingWithCopyWarning: \n",
      "A value is trying to be set on a copy of a slice from a DataFrame.\n",
      "Try using .loc[row_indexer,col_indexer] = value instead\n",
      "\n",
      "See the caveats in the documentation: https://pandas.pydata.org/pandas-docs/stable/user_guide/indexing.html#returning-a-view-versus-a-copy\n",
      "  if __name__ == '__main__':\n",
      "/opt/anaconda3/lib/python3.7/site-packages/sklearn/compose/_column_transformer.py:430: FutureWarning: Given feature/column names or counts do not match the ones for the data given during fit. This will fail from v0.24.\n",
      "  FutureWarning)\n",
      "/opt/anaconda3/lib/python3.7/site-packages/ipykernel_launcher.py:12: SettingWithCopyWarning: \n",
      "A value is trying to be set on a copy of a slice from a DataFrame.\n",
      "Try using .loc[row_indexer,col_indexer] = value instead\n",
      "\n",
      "See the caveats in the documentation: https://pandas.pydata.org/pandas-docs/stable/user_guide/indexing.html#returning-a-view-versus-a-copy\n",
      "  if sys.path[0] == '':\n"
     ]
    },
    {
     "name": "stdout",
     "output_type": "stream",
     "text": [
      "1.0\n"
     ]
    },
    {
     "data": {
      "image/png": "[encoded data removed]",
      "text/plain": [
       "<Figure size 432x288 with 1 Axes>"
      ]
     },
     "metadata": {
      "image/png": {
       "height": 263,
       "width": 728
      },
      "needs_background": "light"
     },
     "output_type": "display_data"
    }
   ],
   "source": [
    "#Created a new column with binary values to distinguish between american adverts and adverts from the rest of the world.\n",
    "only_targetted['usa'] = (only_targetted.Country == 'United States').replace({True:'USA', False:'ROW'})\n",
    "#split the data into train and test\n",
    "X_train, X_test, y_train, y_test = train_test_split(X, y)\n",
    "#Created a new dataframe with the tested dataset that can be used for a permutation test\n",
    "results = X_test\n",
    "results['usa'] = (results.Country == 'United States').replace({True:'USA', False:'ROW'})\n",
    "#assigning a column with the actual values\n",
    "results['actual_values'] = y_test\n",
    "pl2.fit(X_train, y_train)\n",
    "#assigning a column with the predicted values\n",
    "results['preds'] = pl2.predict(X_test)\n",
    "\n",
    "#Conducting the permutation test\n",
    "#Finding the observed value of the recall score\n",
    "obs = results.groupby('usa').apply(lambda x: metrics.recall_score(x.actual_values, x.preds, pos_label = 'Female')).diff().iloc[-1]\n",
    "#Resetting index\n",
    "results = results.reset_index()\n",
    "metrs = []\n",
    "#for looping and shuffling the binary column in order to get recall scores when the samples are randomized.\n",
    "for _ in range(100):\n",
    "    s = (\n",
    "        results[['usa', 'preds', 'actual_values']]\n",
    "        .assign(usa=results.usa.sample(frac=1.0, replace=False).reset_index(drop=True))\n",
    "        .groupby('usa')\n",
    "        .apply(lambda x: metrics.recall_score(x.actual_values, x.preds, pos_label = 'Female'))\n",
    "        .diff()\n",
    "        .iloc[-1]\n",
    "    )\n",
    "    metrs.append(s)\n",
    "    \n",
    "metrs\n",
    "print(pd.Series(metrs <= obs).mean())\n",
    "pd.Series(metrs).plot(kind='hist', title='Permutation Test for difference between recall score of female targetted adverts over the US and the rest of the world')\n",
    "plt.scatter(obs, 0, c='r');"
   ]
  },
  {
   "cell_type": "code",
   "execution_count": null,
   "metadata": {},
   "outputs": [],
   "source": []
  },
  {
   "cell_type": "code",
   "execution_count": null,
   "metadata": {},
   "outputs": [],
   "source": []
  },
  {
   "cell_type": "code",
   "execution_count": null,
   "metadata": {},
   "outputs": [],
   "source": []
  }
 ],
 "metadata": {
  "kernelspec": {
   "display_name": "Python 3",
   "language": "python",
   "name": "python3"
  },
  "language_info": {
   "codemirror_mode": {
    "name": "ipython",
    "version": 3
   },
   "file_extension": ".py",
   "mimetype": "text/x-python",
   "name": "python",
   "nbconvert_exporter": "python",
   "pygments_lexer": "ipython3",
   "version": "3.8.5"
  }
 },
 "nbformat": 4,
 "nbformat_minor": 2
}
